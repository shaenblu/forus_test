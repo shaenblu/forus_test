{
 "cells": [
  {
   "cell_type": "code",
   "execution_count": 1,
   "metadata": {
    "collapsed": false
   },
   "outputs": [
    {
     "data": {
      "text/html": [
       "<div>\n",
       "<style>\n",
       "    .dataframe thead tr:only-child th {\n",
       "        text-align: right;\n",
       "    }\n",
       "\n",
       "    .dataframe thead th {\n",
       "        text-align: left;\n",
       "    }\n",
       "\n",
       "    .dataframe tbody tr th {\n",
       "        vertical-align: top;\n",
       "    }\n",
       "</style>\n",
       "<table border=\"1\" class=\"dataframe\">\n",
       "  <thead>\n",
       "    <tr style=\"text-align: right;\">\n",
       "      <th></th>\n",
       "      <th>doc_name</th>\n",
       "      <th>ohif_markup</th>\n",
       "      <th>path</th>\n",
       "    </tr>\n",
       "  </thead>\n",
       "  <tbody>\n",
       "    <tr>\n",
       "      <th>0</th>\n",
       "      <td>0</td>\n",
       "      <td>{\"ohifMarks\":[{\"visible\":true,\"active\":false,\"...</td>\n",
       "      <td>0b791bcb-a3f6-11ea-8690-d5dc0d8782d9.dcm</td>\n",
       "    </tr>\n",
       "    <tr>\n",
       "      <th>1</th>\n",
       "      <td>1</td>\n",
       "      <td>{\"ohifMarks\":[{\"visible\":true,\"active\":false,\"...</td>\n",
       "      <td>0b791bcb-a3f6-11ea-8690-d5dc0d8782d9.dcm</td>\n",
       "    </tr>\n",
       "    <tr>\n",
       "      <th>2</th>\n",
       "      <td>2</td>\n",
       "      <td>{\"ohifMarks\":[{\"visible\":true,\"active\":false,\"...</td>\n",
       "      <td>0b791bcb-a3f6-11ea-8690-d5dc0d8782d9.dcm</td>\n",
       "    </tr>\n",
       "    <tr>\n",
       "      <th>3</th>\n",
       "      <td>3</td>\n",
       "      <td>{\"ohifMarks\":[{\"visible\":true,\"active\":false,\"...</td>\n",
       "      <td>0b791bcb-a3f6-11ea-8690-d5dc0d8782d9.dcm</td>\n",
       "    </tr>\n",
       "    <tr>\n",
       "      <th>4</th>\n",
       "      <td>0</td>\n",
       "      <td>{\"ohifMarks\":[{\"visible\":true,\"active\":false,\"...</td>\n",
       "      <td>29a7b38f-a3f6-11ea-8690-0ff0934ed20e.dcm</td>\n",
       "    </tr>\n",
       "    <tr>\n",
       "      <th>5</th>\n",
       "      <td>1</td>\n",
       "      <td>{\"ohifMarks\":[{\"visible\":true,\"active\":true,\"i...</td>\n",
       "      <td>29a7b38f-a3f6-11ea-8690-0ff0934ed20e.dcm</td>\n",
       "    </tr>\n",
       "    <tr>\n",
       "      <th>6</th>\n",
       "      <td>2</td>\n",
       "      <td>{\"ohifMarks\":[{\"visible\":true,\"active\":false,\"...</td>\n",
       "      <td>29a7b38f-a3f6-11ea-8690-0ff0934ed20e.dcm</td>\n",
       "    </tr>\n",
       "    <tr>\n",
       "      <th>7</th>\n",
       "      <td>3</td>\n",
       "      <td>{\"ohifMarks\":[{\"visible\":true,\"active\":false,\"...</td>\n",
       "      <td>29a7b38f-a3f6-11ea-8690-0ff0934ed20e.dcm</td>\n",
       "    </tr>\n",
       "  </tbody>\n",
       "</table>\n",
       "</div>"
      ],
      "text/plain": [
       "   doc_name                                        ohif_markup  \\\n",
       "0         0  {\"ohifMarks\":[{\"visible\":true,\"active\":false,\"...   \n",
       "1         1  {\"ohifMarks\":[{\"visible\":true,\"active\":false,\"...   \n",
       "2         2  {\"ohifMarks\":[{\"visible\":true,\"active\":false,\"...   \n",
       "3         3  {\"ohifMarks\":[{\"visible\":true,\"active\":false,\"...   \n",
       "4         0  {\"ohifMarks\":[{\"visible\":true,\"active\":false,\"...   \n",
       "5         1  {\"ohifMarks\":[{\"visible\":true,\"active\":true,\"i...   \n",
       "6         2  {\"ohifMarks\":[{\"visible\":true,\"active\":false,\"...   \n",
       "7         3  {\"ohifMarks\":[{\"visible\":true,\"active\":false,\"...   \n",
       "\n",
       "                                       path  \n",
       "0  0b791bcb-a3f6-11ea-8690-d5dc0d8782d9.dcm  \n",
       "1  0b791bcb-a3f6-11ea-8690-d5dc0d8782d9.dcm  \n",
       "2  0b791bcb-a3f6-11ea-8690-d5dc0d8782d9.dcm  \n",
       "3  0b791bcb-a3f6-11ea-8690-d5dc0d8782d9.dcm  \n",
       "4  29a7b38f-a3f6-11ea-8690-0ff0934ed20e.dcm  \n",
       "5  29a7b38f-a3f6-11ea-8690-0ff0934ed20e.dcm  \n",
       "6  29a7b38f-a3f6-11ea-8690-0ff0934ed20e.dcm  \n",
       "7  29a7b38f-a3f6-11ea-8690-0ff0934ed20e.dcm  "
      ]
     },
     "execution_count": 1,
     "metadata": {},
     "output_type": "execute_result"
    }
   ],
   "source": [
    "import pandas as pd\n",
    "data = pd.read_csv(\"test.csv\")\n",
    "data"
   ]
  },
  {
   "cell_type": "code",
   "execution_count": 6,
   "metadata": {
    "collapsed": false
   },
   "outputs": [
    {
     "data": {
      "text/plain": [
       "'{\"ohifMarks\":[{\"visible\":true,\"active\":false,\"invalidated\":true,\"handles\":{\"points\":[{\"x\":174.5602613971082,\"y\":352.647886929862,\"highlight\":true,\"active\":true,\"lines\":[{\"x\":174.5602613971082,\"y\":353.8311073291038}]},{\"x\":174.5602613971082,\"y\":353.8311073291038,\"highlight\":true,\"active\":true,\"lines\":[{\"x\":174.5602613971082,\"y\":355.0143277283455}]},{\"x\":174.5602613971082,\"y\":355.0143277283455,\"highlight\":true,\"active\":true,\"lines\":[{\"x\":174.5602613971082,\"y\":356.1975481275873}]},{\"x\":174.5602613971082,\"y\":356.1975481275873,\"highlight\":true,\"active\":true,\"lines\":[{\"x\":174.5602613971082,\"y\":357.380768526829}]},{\"x\":174.5602613971082,\"y\":357.380768526829,\"highlight\":true,\"active\":true,\"lines\":[{\"x\":175.1518715967291,\"y\":358.5639889260708}]},{\"x\":175.1518715967291,\"y\":358.5639889260708,\"highlight\":true,\"active\":true,\"lines\":[{\"x\":175.74348179634995,\"y\":359.7472093253125}]},{\"x\":175.74348179634995,\"y\":359.7472093253125,\"highlight\":true,\"active\":true,\"lines\":[{\"x\":176.9267021955917,\"y\":360.33881952493334}]},{\"x\":176.9267021955917,\"y\":360.33881952493334,\"highlight\":true,\"active\":true,\"lines\":[{\"x\":178.10992259483345,\"y\":360.9304297245543}]},{\"x\":178.10992259483345,\"y\":360.9304297245543,\"highlight\":true,\"active\":true,\"lines\":[{\"x\":179.2931429940752,\"y\":360.9304297245543}]},{\"x\":179.2931429940752,\"y\":360.9304297245543,\"highlight\":true,\"active\":true,\"lines\":[{\"x\":180.47636339331694,\"y\":360.9304297245543}]},{\"x\":180.47636339331694,\"y\":360.9304297245543,\"highlight\":true,\"active\":true,\"lines\":[{\"x\":181.6595837925587,\"y\":360.33881952493334}]},{\"x\":181.6595837925587,\"y\":360.33881952493334,\"highlight\":true,\"active\":true,\"lines\":[{\"x\":181.6595837925587,\"y\":359.15559912569165}]},{\"x\":181.6595837925587,\"y\":359.15559912569165,\"highlight\":true,\"active\":true,\"lines\":[{\"x\":181.6595837925587,\"y\":357.97237872644985}]},{\"x\":181.6595837925587,\"y\":357.97237872644985,\"highlight\":true,\"active\":true,\"lines\":[{\"x\":181.6595837925587,\"y\":356.78915832720816}]},{\"x\":181.6595837925587,\"y\":356.78915832720816,\"highlight\":true,\"active\":true,\"lines\":[{\"x\":181.6595837925587,\"y\":355.0143277283455}]},{\"x\":181.6595837925587,\"y\":355.0143277283455,\"highlight\":true,\"active\":true,\"lines\":[{\"x\":181.06797359293785,\"y\":353.8311073291038}]},{\"x\":181.06797359293785,\"y\":353.8311073291038,\"highlight\":true,\"active\":true,\"lines\":[{\"x\":181.06797359293785,\"y\":352.647886929862}]},{\"x\":181.06797359293785,\"y\":352.647886929862,\"highlight\":true,\"active\":true,\"lines\":[{\"x\":180.47636339331694,\"y\":351.46466653062026}]},{\"x\":180.47636339331694,\"y\":351.46466653062026,\"highlight\":true,\"active\":true,\"lines\":[{\"x\":179.8847531936961,\"y\":350.2814461313785}]},{\"x\":179.8847531936961,\"y\":350.2814461313785,\"highlight\":true,\"active\":true,\"lines\":[{\"x\":178.70153279445435,\"y\":350.2814461313785}]},{\"x\":178.70153279445435,\"y\":350.2814461313785,\"highlight\":true,\"active\":true,\"lines\":[{\"x\":177.5183123952126,\"y\":350.2814461313785}]},{\"x\":177.5183123952126,\"y\":350.2814461313785,\"highlight\":true,\"active\":true,\"lines\":[{\"x\":176.9267021955917,\"y\":351.46466653062026}]},{\"x\":176.9267021955917,\"y\":351.46466653062026,\"highlight\":true,\"active\":true,\"lines\":[{\"x\":176.33509199597086,\"y\":352.647886929862}]},{\"x\":176.33509199597086,\"y\":352.647886929862,\"highlight\":true,\"active\":true,\"lines\":[{\"x\":174.5602613971082,\"y\":352.647886929862,\"highlight\":true,\"active\":true,\"lines\":[{\"x\":174.5602613971082,\"y\":353.8311073291038}]}]}],\"textBox\":{\"active\":false,\"hasMoved\":false,\"movesIndependently\":false,\"drawnIndependently\":true,\"allowedOutsideImage\":true,\"hasBoundingBox\":true,\"x\":181.6595837925587,\"y\":355.6059379279664,\"boundingBox\":{\"width\":137.1015625,\"height\":65.0,\"left\":639.0,\"top\":404.50000000000006}},\"invalidHandlePlacement\":false},\"patientId\":\"Anonym\",\"studyInstanceUid\":\"1.2.826.0.1.3680043.8.498.49659759122342659786420637239878808528\",\"seriesInstanceUid\":\"1.2.392.200036.9123.100.11.15114374081440352159099349501266198\",\"sopInstanceUid\":\"1.2.392.200036.9123.100.11.15114374081440352159099355001266574\",\"frameIndex\":0.0,\"imagePath\":\"1.2.826.0.1.3680043.8.498.49659759122342659786420637239878808528_1.2.392.200036.9123.100.11.15114374081440352159099349501266198_1.2.392.200036.9123.100.11.15114374081440352159099355001266574_0\",\"lesionNamingNumber\":1.0,\"toolType\":\"FreehandRoi\",\"_id\":\"7aa0a85f-c683-3f09-586d-32df65b5d312\",\"timepointId\":\"TimepointId\",\"measurementNumber\":1.0,\"medcsId\":18621.0,\"viewport\":{\"scale\":1.6903021628782513,\"translation\":{\"x\":139.713343265548,\"y\":5.109067404928595},\"voi\":{\"windowWidth\":1500.0,\"windowCenter\":-650.0},\"invert\":false,\"pixelReplication\":false,\"rotation\":0.0,\"hflip\":false,\"vflip\":false,\"labelmap\":false,\"displayedArea\":{\"tlhc\":{\"x\":1.0,\"y\":1.0},\"brhc\":{\"x\":512.0,\"y\":512.0},\"rowPixelSpacing\":0.618,\"columnPixelSpacing\":0.618,\"presentationSizeMode\":\"NONE\"}},\"canComplete\":false,\"highlight\":false,\"polyBoundingBox\":{\"left\":174.5602613971082,\"top\":350.2814461313785,\"width\":7.099322395450486,\"height\":10.648983593175785},\"meanStdDev\":{\"count\":50.0,\"mean\":-747.1,\"variance\":5347.969999999972,\"stdDev\":73.12981608072026},\"area\":23.52669507040379,\"unit\":\"HU\",\"location\":\"mass\"}]}'"
      ]
     },
     "execution_count": 6,
     "metadata": {},
     "output_type": "execute_result"
    }
   ],
   "source": [
    "data['ohif_markup'][1]\n"
   ]
  },
  {
   "cell_type": "code",
   "execution_count": 2,
   "metadata": {
    "collapsed": false
   },
   "outputs": [
    {
     "name": "stdout",
     "output_type": "stream",
     "text": [
      "/Users/gulnur/anaconda/lib/python2.7/site-packages/cryptography/hazmat/primitives/constant_time.py:26: CryptographyDeprecationWarning: Support for your Python version is deprecated. The next version of cryptography will remove support. Please upgrade to a release (2.7.7+) that supports hmac.compare_digest as soon as possible.\n",
      "  utils.PersistentlyDeprecated2018,\n",
      "\u001b[33mDEPRECATION: Python 2.7 reached the end of its life on January 1st, 2020. Please upgrade your Python as Python 2.7 is no longer maintained. A future version of pip will drop support for Python 2.7. More details about Python 2 support in pip, can be found at https://pip.pypa.io/en/latest/development/release-process/#python-2-support\u001b[0m\n",
      "Requirement already satisfied: pydicom in /Users/gulnur/anaconda/lib/python2.7/site-packages (1.4.2)\n",
      "\u001b[33mWARNING: You are using pip version 20.0.2; however, version 20.2.4 is available.\n",
      "You should consider upgrading via the '/Users/gulnur/anaconda/bin/python -m pip install --upgrade pip' command.\u001b[0m\n"
     ]
    }
   ],
   "source": [
    "!pip install pydicom"
   ]
  },
  {
   "cell_type": "code",
   "execution_count": 4,
   "metadata": {
    "collapsed": false
   },
   "outputs": [
    {
     "name": "stdout",
     "output_type": "stream",
     "text": [
      "/Users/gulnur/anaconda/lib/python2.7/site-packages/cryptography/hazmat/primitives/constant_time.py:26: CryptographyDeprecationWarning: Support for your Python version is deprecated. The next version of cryptography will remove support. Please upgrade to a release (2.7.7+) that supports hmac.compare_digest as soon as possible.\n",
      "  utils.PersistentlyDeprecated2018,\n",
      "\u001b[33mDEPRECATION: Python 2.7 reached the end of its life on January 1st, 2020. Please upgrade your Python as Python 2.7 is no longer maintained. A future version of pip will drop support for Python 2.7. More details about Python 2 support in pip, can be found at https://pip.pypa.io/en/latest/development/release-process/#python-2-support\u001b[0m\n",
      "\u001b[31mERROR: Could not find a version that satisfies the requirement matplotlib.pyplot (from versions: none)\u001b[0m\n",
      "\u001b[31mERROR: No matching distribution found for matplotlib.pyplot\u001b[0m\n",
      "\u001b[33mWARNING: You are using pip version 20.0.2; however, version 20.2.4 is available.\n",
      "You should consider upgrading via the '/Users/gulnur/anaconda/bin/python -m pip install --upgrade pip' command.\u001b[0m\n"
     ]
    }
   ],
   "source": [
    "!pip install matplotlib.pyplot"
   ]
  },
  {
   "cell_type": "code",
   "execution_count": 3,
   "metadata": {
    "collapsed": false
   },
   "outputs": [
    {
     "ename": "RuntimeError",
     "evalue": "Python is not installed as a framework. The Mac OS X backend will not be able to function correctly if Python is not installed as a framework. See the Python documentation for more information on installing Python as a framework on Mac OS X. Please either reinstall Python as a framework, or try one of the other backends. If you are using (Ana)Conda please install python.app and replace the use of 'python' with 'pythonw'. See 'Working with Matplotlib on OSX' in the Matplotlib FAQ for more information.",
     "output_type": "error",
     "traceback": [
      "\u001b[0;31m---------------------------------------------------------------------------\u001b[0m",
      "\u001b[0;31mRuntimeError\u001b[0m                              Traceback (most recent call last)",
      "\u001b[0;32m<ipython-input-3-678fab9905a2>\u001b[0m in \u001b[0;36m<module>\u001b[0;34m()\u001b[0m\n\u001b[1;32m      4\u001b[0m \u001b[0;32mimport\u001b[0m \u001b[0mcopy\u001b[0m\u001b[0;34m\u001b[0m\u001b[0m\n\u001b[1;32m      5\u001b[0m \u001b[0;32mfrom\u001b[0m \u001b[0mmath\u001b[0m \u001b[0;32mimport\u001b[0m \u001b[0;34m*\u001b[0m\u001b[0;34m\u001b[0m\u001b[0m\n\u001b[0;32m----> 6\u001b[0;31m \u001b[0;32mimport\u001b[0m \u001b[0mmatplotlib\u001b[0m\u001b[0;34m.\u001b[0m\u001b[0mpyplot\u001b[0m \u001b[0;32mas\u001b[0m \u001b[0mplt\u001b[0m\u001b[0;34m\u001b[0m\u001b[0m\n\u001b[0m\u001b[1;32m      7\u001b[0m \u001b[0;32mfrom\u001b[0m \u001b[0mfunctools\u001b[0m \u001b[0;32mimport\u001b[0m \u001b[0mreduce\u001b[0m\u001b[0;34m\u001b[0m\u001b[0m\n\u001b[1;32m      8\u001b[0m \u001b[0;31m# reading in dicom files\u001b[0m\u001b[0;34m\u001b[0m\u001b[0;34m\u001b[0m\u001b[0m\n",
      "\u001b[0;32m/Users/gulnur/anaconda/lib/python2.7/site-packages/matplotlib/pyplot.py\u001b[0m in \u001b[0;36m<module>\u001b[0;34m()\u001b[0m\n\u001b[1;32m    113\u001b[0m \u001b[0;31m## Global ##\u001b[0m\u001b[0;34m\u001b[0m\u001b[0;34m\u001b[0m\u001b[0m\n\u001b[1;32m    114\u001b[0m \u001b[0;34m\u001b[0m\u001b[0m\n\u001b[0;32m--> 115\u001b[0;31m \u001b[0m_backend_mod\u001b[0m\u001b[0;34m,\u001b[0m \u001b[0mnew_figure_manager\u001b[0m\u001b[0;34m,\u001b[0m \u001b[0mdraw_if_interactive\u001b[0m\u001b[0;34m,\u001b[0m \u001b[0m_show\u001b[0m \u001b[0;34m=\u001b[0m \u001b[0mpylab_setup\u001b[0m\u001b[0;34m(\u001b[0m\u001b[0;34m)\u001b[0m\u001b[0;34m\u001b[0m\u001b[0m\n\u001b[0m\u001b[1;32m    116\u001b[0m \u001b[0;34m\u001b[0m\u001b[0m\n\u001b[1;32m    117\u001b[0m \u001b[0m_IP_REGISTERED\u001b[0m \u001b[0;34m=\u001b[0m \u001b[0mNone\u001b[0m\u001b[0;34m\u001b[0m\u001b[0m\n",
      "\u001b[0;32m/Users/gulnur/anaconda/lib/python2.7/site-packages/matplotlib/backends/__init__.pyc\u001b[0m in \u001b[0;36mpylab_setup\u001b[0;34m(name)\u001b[0m\n\u001b[1;32m     61\u001b[0m     \u001b[0;31m# imports. 0 means only perform absolute imports.\u001b[0m\u001b[0;34m\u001b[0m\u001b[0;34m\u001b[0m\u001b[0m\n\u001b[1;32m     62\u001b[0m     backend_mod = __import__(backend_name, globals(), locals(),\n\u001b[0;32m---> 63\u001b[0;31m                              [backend_name], 0)\n\u001b[0m\u001b[1;32m     64\u001b[0m \u001b[0;34m\u001b[0m\u001b[0m\n\u001b[1;32m     65\u001b[0m     \u001b[0;31m# Things we pull in from all backends\u001b[0m\u001b[0;34m\u001b[0m\u001b[0;34m\u001b[0m\u001b[0m\n",
      "\u001b[0;32m/Users/gulnur/anaconda/lib/python2.7/site-packages/matplotlib/backends/backend_macosx.py\u001b[0m in \u001b[0;36m<module>\u001b[0;34m()\u001b[0m\n\u001b[1;32m     15\u001b[0m \u001b[0;34m\u001b[0m\u001b[0m\n\u001b[1;32m     16\u001b[0m \u001b[0;32mimport\u001b[0m \u001b[0mmatplotlib\u001b[0m\u001b[0;34m\u001b[0m\u001b[0m\n\u001b[0;32m---> 17\u001b[0;31m \u001b[0;32mfrom\u001b[0m \u001b[0mmatplotlib\u001b[0m\u001b[0;34m.\u001b[0m\u001b[0mbackends\u001b[0m \u001b[0;32mimport\u001b[0m \u001b[0m_macosx\u001b[0m\u001b[0;34m\u001b[0m\u001b[0m\n\u001b[0m\u001b[1;32m     18\u001b[0m \u001b[0;34m\u001b[0m\u001b[0m\n\u001b[1;32m     19\u001b[0m \u001b[0;32mfrom\u001b[0m \u001b[0;34m.\u001b[0m\u001b[0mbackend_agg\u001b[0m \u001b[0;32mimport\u001b[0m \u001b[0mFigureCanvasAgg\u001b[0m\u001b[0;34m\u001b[0m\u001b[0m\n",
      "\u001b[0;31mRuntimeError\u001b[0m: Python is not installed as a framework. The Mac OS X backend will not be able to function correctly if Python is not installed as a framework. See the Python documentation for more information on installing Python as a framework on Mac OS X. Please either reinstall Python as a framework, or try one of the other backends. If you are using (Ana)Conda please install python.app and replace the use of 'python' with 'pythonw'. See 'Working with Matplotlib on OSX' in the Matplotlib FAQ for more information."
     ]
    }
   ],
   "source": [
    "# common packages \n",
    "import numpy as np \n",
    "import os\n",
    "import copy\n",
    "from math import *\n",
    "import matplotlib.pyplot as plt\n",
    "from functools import reduce\n",
    "# reading in dicom files\n",
    "import pydicom\n",
    "# skimage image processing packages\n",
    "from skimage import measure, morphology\n",
    "from skimage.morphology import ball, binary_closing\n",
    "from skimage.measure import label, regionprops\n",
    "# scipy linear algebra functions \n",
    "from scipy.linalg import norm\n",
    "import scipy.ndimage\n",
    "# ipywidgets for some interactive plots\n",
    "from ipywidgets.widgets import * \n",
    "import ipywidgets as widgets\n",
    "# plotly 3D interactive graphs \n",
    "import plotly\n",
    "from plotly.graph_objs import *\n",
    "import chart_studio.plotly as py\n",
    "# set plotly credentials here \n",
    "# this allows you to send results to your account plotly.tools.set_credentials_file(username=your_username, api_key=your_key)\n",
    "import glob\n",
    "from collections import defaultdict\n",
    "import pickle\n",
    "import pydicom\n",
    "import matplotlib.patches\n",
    "from PIL import Image"
   ]
  },
  {
   "cell_type": "code",
   "execution_count": null,
   "metadata": {
    "collapsed": true
   },
   "outputs": [],
   "source": []
  }
 ],
 "metadata": {
  "anaconda-cloud": {},
  "kernelspec": {
   "display_name": "Python 2",
   "language": "python",
   "name": "python2"
  },
  "language_info": {
   "codemirror_mode": {
    "name": "ipython",
    "version": 2
   },
   "file_extension": ".py",
   "mimetype": "text/x-python",
   "name": "python",
   "nbconvert_exporter": "python",
   "pygments_lexer": "ipython2",
   "version": "2.7.6"
  }
 },
 "nbformat": 4,
 "nbformat_minor": 2
}
